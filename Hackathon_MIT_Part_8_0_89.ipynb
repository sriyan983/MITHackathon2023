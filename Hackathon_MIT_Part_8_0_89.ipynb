{
  "nbformat": 4,
  "nbformat_minor": 0,
  "metadata": {
    "colab": {
      "provenance": []
    },
    "kernelspec": {
      "name": "python3",
      "display_name": "Python 3"
    },
    "language_info": {
      "name": "python"
    }
  },
  "cells": [
    {
      "cell_type": "code",
      "execution_count": 1,
      "metadata": {
        "id": "6UM-sAvRZDgD",
        "colab": {
          "base_uri": "https://localhost:8080/"
        },
        "outputId": "4718e4ed-8768-49ed-dc61-7f546a2a45f6"
      },
      "outputs": [
        {
          "output_type": "stream",
          "name": "stdout",
          "text": [
            "Looking in indexes: https://pypi.org/simple, https://us-python.pkg.dev/colab-wheels/public/simple/\n",
            "Requirement already satisfied: seaborn in /usr/local/lib/python3.8/dist-packages (0.11.2)\n",
            "Collecting seaborn\n",
            "  Downloading seaborn-0.12.2-py3-none-any.whl (293 kB)\n",
            "\u001b[2K     \u001b[90m━━━━━━━━━━━━━━━━━━━━━━━━━━━━━━━━━━━━━━━\u001b[0m \u001b[32m293.3/293.3 KB\u001b[0m \u001b[31m7.5 MB/s\u001b[0m eta \u001b[36m0:00:00\u001b[0m\n",
            "\u001b[?25hRequirement already satisfied: matplotlib!=3.6.1,>=3.1 in /usr/local/lib/python3.8/dist-packages (from seaborn) (3.2.2)\n",
            "Requirement already satisfied: numpy!=1.24.0,>=1.17 in /usr/local/lib/python3.8/dist-packages (from seaborn) (1.21.6)\n",
            "Requirement already satisfied: pandas>=0.25 in /usr/local/lib/python3.8/dist-packages (from seaborn) (1.3.5)\n",
            "Requirement already satisfied: kiwisolver>=1.0.1 in /usr/local/lib/python3.8/dist-packages (from matplotlib!=3.6.1,>=3.1->seaborn) (1.4.4)\n",
            "Requirement already satisfied: cycler>=0.10 in /usr/local/lib/python3.8/dist-packages (from matplotlib!=3.6.1,>=3.1->seaborn) (0.11.0)\n",
            "Requirement already satisfied: python-dateutil>=2.1 in /usr/local/lib/python3.8/dist-packages (from matplotlib!=3.6.1,>=3.1->seaborn) (2.8.2)\n",
            "Requirement already satisfied: pyparsing!=2.0.4,!=2.1.2,!=2.1.6,>=2.0.1 in /usr/local/lib/python3.8/dist-packages (from matplotlib!=3.6.1,>=3.1->seaborn) (3.0.9)\n",
            "Requirement already satisfied: pytz>=2017.3 in /usr/local/lib/python3.8/dist-packages (from pandas>=0.25->seaborn) (2022.7)\n",
            "Requirement already satisfied: six>=1.5 in /usr/local/lib/python3.8/dist-packages (from python-dateutil>=2.1->matplotlib!=3.6.1,>=3.1->seaborn) (1.15.0)\n",
            "Installing collected packages: seaborn\n",
            "  Attempting uninstall: seaborn\n",
            "    Found existing installation: seaborn 0.11.2\n",
            "    Uninstalling seaborn-0.11.2:\n",
            "      Successfully uninstalled seaborn-0.11.2\n",
            "Successfully installed seaborn-0.12.2\n"
          ]
        }
      ],
      "source": [
        "import warnings\n",
        "warnings.simplefilter(action='ignore', category=FutureWarning)\n",
        "\n",
        "import numpy as np\n",
        "import pandas as pd\n",
        "pd.set_option('precision', 3)\n",
        "\n",
        "# Data Visualisation Libraries\n",
        "import matplotlib.pyplot as plt\n",
        "%config InlineBackend.figure_format = 'retina'\n",
        "\n",
        "!pip install seaborn --upgrade\n",
        "import seaborn as sns\n",
        "sns.set_style('darkgrid')\n",
        "\n",
        "# Statistics\n",
        "from scipy.stats import chi2_contingency\n",
        "from imblearn.over_sampling import SMOTE\n",
        "\n",
        "# Machine Learning\n",
        "from sklearn.model_selection import train_test_split, GridSearchCV\n",
        "from sklearn.model_selection import cross_val_score, cross_val_predict\n",
        "from sklearn.model_selection import learning_curve\n",
        "\n",
        "from sklearn.preprocessing import LabelEncoder, StandardScaler\n",
        "\n",
        "from sklearn.naive_bayes import GaussianNB\n",
        "from sklearn.linear_model import LogisticRegression\n",
        "from sklearn.svm import SVC\n",
        "from sklearn.ensemble import RandomForestClassifier, GradientBoostingClassifier, VotingClassifier\n",
        "from xgboost import XGBClassifier\n",
        "from lightgbm import LGBMClassifier\n",
        "\n",
        "from sklearn.metrics import accuracy_score, recall_score, precision_score, auc, roc_auc_score, roc_curve\n",
        "from sklearn.metrics import confusion_matrix\n"
      ]
    },
    {
      "cell_type": "markdown",
      "source": [
        "# Model building"
      ],
      "metadata": {
        "id": "0BNrv_d6Hs07"
      }
    },
    {
      "cell_type": "code",
      "source": [
        "train_df = pd.read_csv('/content/drive/MyDrive/MIT/Hackathon/MergedTrainData_NaNMean.csv')\n",
        "train_df.info()"
      ],
      "metadata": {
        "id": "uAfMWdl4Yqkt",
        "colab": {
          "base_uri": "https://localhost:8080/"
        },
        "outputId": "7fe13f59-45b0-40ab-ca6a-f9b691628f6e"
      },
      "execution_count": 2,
      "outputs": [
        {
          "output_type": "stream",
          "name": "stdout",
          "text": [
            "<class 'pandas.core.frame.DataFrame'>\n",
            "RangeIndex: 70252 entries, 0 to 70251\n",
            "Data columns (total 21 columns):\n",
            " #   Column                  Non-Null Count  Dtype  \n",
            "---  ------                  --------------  -----  \n",
            " 0   ID                      70252 non-null  int64  \n",
            " 1   Gender                  70252 non-null  int64  \n",
            " 2   Customer_Type           70252 non-null  float64\n",
            " 3   Age                     70252 non-null  float64\n",
            " 4   Travel_Class            70252 non-null  int64  \n",
            " 5   Travel_Distance         70252 non-null  int64  \n",
            " 6   Arrival_Delay_in_Mins   70252 non-null  float64\n",
            " 7   Overall_Experience      70252 non-null  int64  \n",
            " 8   Seat_Comfort            70252 non-null  float64\n",
            " 9   Catering                70252 non-null  float64\n",
            " 10  Platform_Location       70252 non-null  float64\n",
            " 11  Onboard_Wifi_Service    70252 non-null  float64\n",
            " 12  Onboard_Entertainment   70252 non-null  float64\n",
            " 13  Online_Support          70252 non-null  float64\n",
            " 14  Ease_of_Online_Booking  70252 non-null  float64\n",
            " 15  Onboard_Service         70252 non-null  float64\n",
            " 16  Legroom                 70252 non-null  float64\n",
            " 17  Baggage_Handling        70252 non-null  float64\n",
            " 18  CheckIn_Service         70252 non-null  float64\n",
            " 19  Cleanliness             70252 non-null  float64\n",
            " 20  Online_Boarding         70252 non-null  float64\n",
            "dtypes: float64(16), int64(5)\n",
            "memory usage: 11.3 MB\n"
          ]
        }
      ]
    },
    {
      "cell_type": "code",
      "source": [
        "scaler = StandardScaler()\n",
        "\n",
        "scl_columns = ['Arrival_Delay_in_Mins', 'Age', 'Travel_Distance']\n",
        "train_df[scl_columns] = scaler.fit_transform(train_df[scl_columns])\n",
        "\n",
        "print('✔️ Features Scaled!')"
      ],
      "metadata": {
        "id": "_8a8Dj1vLL8H",
        "colab": {
          "base_uri": "https://localhost:8080/"
        },
        "outputId": "e39a9d45-a761-4805-a765-db9e920f2528"
      },
      "execution_count": 3,
      "outputs": [
        {
          "output_type": "stream",
          "name": "stdout",
          "text": [
            "✔️ Features Scaled!\n"
          ]
        }
      ]
    },
    {
      "cell_type": "code",
      "source": [
        "#feature_cols = ['Gender', 'Travel_Class', 'Travel_Distance', 'Arrival_Delay_in_Mins', \"Seat_Comfort\", \"Platform_Location\"]\n",
        "cols_drop = [\"Overall_Experience\", \"Travel_Class\", \"Onboard_Wifi_Service\", \"Platform_Location\", \"Baggage_Handling\", \"Legroom\"]\n",
        "\n",
        "y_train = train_df['Overall_Experience']\n",
        "X_train = train_df.drop(cols_drop, axis=1)"
      ],
      "metadata": {
        "id": "RY3wC89kLeWF"
      },
      "execution_count": 4,
      "outputs": []
    },
    {
      "cell_type": "code",
      "source": [
        "random_state = 42\n",
        "scoring_metric = 'recall'\n",
        "comparison_dict, comparison_test_dict = {}, {}\n"
      ],
      "metadata": {
        "id": "sjse8lWq3gpo"
      },
      "execution_count": 5,
      "outputs": []
    },
    {
      "cell_type": "code",
      "source": [
        "def plot_conf_mx(cm, ax):\n",
        "    '''Plot a confusion matrix in the specified axes object.'''\n",
        "    sns.heatmap(data=cm,\n",
        "                annot=True,\n",
        "                cmap='Blues',\n",
        "                annot_kws={'fontsize': 30},\n",
        "                ax=ax)\n",
        "\n",
        "    ax.set_xlabel('Predicted Label')\n",
        "    ax.set_xticks([0.5, 1.5])\n",
        "    ax.set_xticklabels(['Retained', 'Churned'])\n",
        "\n",
        "    ax.set_ylabel('True Label')\n",
        "    ax.set_yticks([0.25, 1.25])\n",
        "    ax.set_yticklabels(['Retained', 'Churned']);"
      ],
      "metadata": {
        "id": "w-COVxBs3t5U"
      },
      "execution_count": 6,
      "outputs": []
    },
    {
      "cell_type": "code",
      "source": [
        "def plot_learning_curve(estimator,\n",
        "                        X,\n",
        "                        y,\n",
        "                        ax,\n",
        "                        cv=None,\n",
        "                        train_sizes=np.linspace(0.1, 1.0, 5)):\n",
        "    '''Plot the learning curves for an estimator in the specified axes object.'''\n",
        "    train_sizes, train_scores, test_scores = learning_curve(\n",
        "        estimator,\n",
        "        X,\n",
        "        y,\n",
        "        cv=cv,\n",
        "        n_jobs=-1,\n",
        "        train_sizes=train_sizes,\n",
        "        scoring='accuracy')\n",
        "\n",
        "    train_scores_mean = np.mean(train_scores, axis=1)\n",
        "    train_scores_std = np.std(train_scores, axis=1)\n",
        "    test_scores_mean = np.mean(test_scores, axis=1)\n",
        "    test_scores_std = np.std(test_scores, axis=1)\n",
        "\n",
        "    ax.fill_between(train_sizes,\n",
        "                    train_scores_mean - train_scores_std,\n",
        "                    train_scores_mean + train_scores_std,\n",
        "                    alpha=0.1,\n",
        "                    color='dodgerblue')\n",
        "    ax.fill_between(train_sizes,\n",
        "                    test_scores_mean - test_scores_std,\n",
        "                    test_scores_mean + test_scores_std,\n",
        "                    alpha=0.1,\n",
        "                    color='darkorange')\n",
        "\n",
        "    ax.plot(train_sizes,\n",
        "            train_scores_mean,\n",
        "            color='dodgerblue',\n",
        "            marker='o',\n",
        "            linestyle='-',\n",
        "            label='Training Score')\n",
        "    ax.plot(train_sizes,\n",
        "            test_scores_mean,\n",
        "            color='darkorange',\n",
        "            marker='o',\n",
        "            linestyle='-',\n",
        "            label='Cross-validation Score')\n",
        "\n",
        "    ax.set_xlabel('Training Examples')\n",
        "    ax.set_ylabel('Score')\n",
        "    ax.legend(loc='best', fontsize=14);"
      ],
      "metadata": {
        "id": "RiEWUGc83trg"
      },
      "execution_count": 7,
      "outputs": []
    },
    {
      "cell_type": "code",
      "source": [
        "def clf_performance(classifier, classifier_name, classifier_name_abv):\n",
        "    '''Display the overall performance of a classifier with this template.'''\n",
        "    print('\\n', classifier_name)\n",
        "    print('-------------------------------')\n",
        "    print('   Best Score ({}): '.format(scoring_metric) + str(np.round(classifier.best_score_, 3)))\n",
        "    print('   Best Parameters: ')\n",
        "    for key, value in classifier.best_params_.items():\n",
        "        print('      {}: {}'.format(key, value))\n",
        "\n",
        "    y_pred_pp = cross_val_predict(estimator=classifier.best_estimator_,\n",
        "                                  X=X_train,\n",
        "                                  y=y_train,\n",
        "                                  cv=5,\n",
        "                                  method='predict_proba')[:, 1]\n",
        "    y_pred = y_pred_pp.round()\n",
        "\n",
        "    cm = confusion_matrix(y_train, y_pred, normalize='true')\n",
        "\n",
        "    fpr, tpr, _ = roc_curve(y_train, y_pred_pp)\n",
        "    comparison_dict[classifier_name_abv] = [\n",
        "        accuracy_score(y_train, y_pred),\n",
        "        precision_score(y_train, y_pred),\n",
        "        recall_score(y_train, y_pred),\n",
        "        roc_auc_score(y_train, y_pred_pp), fpr, tpr\n",
        "    ]\n",
        "\n",
        "    fig, (ax1, ax2) = plt.subplots(1, 2, figsize=(12, 5))\n",
        "\n",
        "    plot_conf_mx(cm, ax1)\n",
        "    plot_learning_curve(classifier.best_estimator_, X_train, y_train, ax2)\n",
        "\n",
        "    plt.tight_layout();"
      ],
      "metadata": {
        "id": "q1asVlto3rWx"
      },
      "execution_count": 8,
      "outputs": []
    },
    {
      "cell_type": "code",
      "source": [
        "rf = RandomForestClassifier(random_state=random_state)\n",
        "param_grid = {\n",
        "    'n_estimators': [100],\n",
        "    'criterion': ['entropy', 'gini'],\n",
        "    'bootstrap': [True, False],\n",
        "    'max_depth': [6],\n",
        "    'max_features': ['auto', 'sqrt'],\n",
        "    'min_samples_leaf': [2, 3, 5],\n",
        "    'min_samples_split': [2, 3, 5]\n",
        "}\n",
        "\n",
        "rf_clf = GridSearchCV(estimator=rf,\n",
        "                      param_grid=param_grid,\n",
        "                      scoring=scoring_metric,\n",
        "                      cv=5,\n",
        "                      verbose=False,\n",
        "                      n_jobs=-1)\n",
        "\n",
        "best_rf_clf = rf_clf.fit(X_train, y_train)\n",
        "clf_performance(best_rf_clf, 'Random Forest', 'RF')"
      ],
      "metadata": {
        "colab": {
          "base_uri": "https://localhost:8080/",
          "height": 588
        },
        "id": "CN9zXWEwsIf_",
        "outputId": "8a90a75b-fe72-4679-cd43-de272de4b5ec"
      },
      "execution_count": 9,
      "outputs": [
        {
          "output_type": "stream",
          "name": "stdout",
          "text": [
            "\n",
            " Random Forest\n",
            "-------------------------------\n",
            "   Best Score (recall): 0.913\n",
            "   Best Parameters: \n",
            "      bootstrap: False\n",
            "      criterion: gini\n",
            "      max_depth: 6\n",
            "      max_features: auto\n",
            "      min_samples_leaf: 5\n",
            "      min_samples_split: 2\n",
            "      n_estimators: 100\n"
          ]
        },
        {
          "output_type": "display_data",
          "data": {
            "text/plain": [
              "<Figure size 864x360 with 3 Axes>"
            ],
            "image/png": "[encoded data removed]"
          },
          "metadata": {
            "image/png": {
              "width": 855,
              "height": 351
            }
          }
        }
      ]
    },
    {
      "cell_type": "markdown",
      "source": [
        "Test using test data"
      ],
      "metadata": {
        "id": "-lTNJUCZZ02V"
      }
    },
    {
      "cell_type": "code",
      "source": [
        "test_df = pd.read_csv('/content/drive/MyDrive/MIT/Hackathon/MergedTestData_NanMean.csv')"
      ],
      "metadata": {
        "id": "jGpuac9habUj"
      },
      "execution_count": 10,
      "outputs": []
    },
    {
      "cell_type": "code",
      "source": [
        "scaler = StandardScaler()\n",
        "\n",
        "scl_columns = ['Arrival_Delay_in_Mins', 'Age', 'Travel_Distance']\n",
        "test_df[scl_columns] = scaler.fit_transform(test_df[scl_columns])\n",
        "\n",
        "print('✔️ Features Scaled!')"
      ],
      "metadata": {
        "colab": {
          "base_uri": "https://localhost:8080/"
        },
        "id": "K4UYNemusINg",
        "outputId": "fb540407-a392-4b1c-9f84-e7ddda5be077"
      },
      "execution_count": 11,
      "outputs": [
        {
          "output_type": "stream",
          "name": "stdout",
          "text": [
            "✔️ Features Scaled!\n"
          ]
        }
      ]
    },
    {
      "cell_type": "code",
      "source": [
        "feature_cols = ['Gender', 'Travel_Class', 'Travel_Distance', 'Arrival_Delay_in_Mins', \"Seat_Comfort\", \"Platform_Location\"]\n",
        "cols_drop = [\"Travel_Class\", \"Onboard_Wifi_Service\", \"Platform_Location\", \"Baggage_Handling\", \"Legroom\"]\n",
        "\n",
        "# # y is a vector, hence we use dot to access 'label'\n",
        "# y = test_df.Overall_Experience\n",
        "\n",
        "#y_test = test_df['Overall_Experience']\n",
        "X_test = test_df.drop(cols_drop, axis=1)"
      ],
      "metadata": {
        "id": "8juuzLN-alb1"
      },
      "execution_count": 12,
      "outputs": []
    },
    {
      "cell_type": "code",
      "source": [
        "y_pred_class = best_rf_clf.predict(X_test)"
      ],
      "metadata": {
        "id": "A97Hg_Zja0FI"
      },
      "execution_count": 13,
      "outputs": []
    },
    {
      "cell_type": "code",
      "source": [
        "# calculate accuracy\n",
        "from sklearn import metrics\n",
        "# print(metrics.accuracy_score(y_test, y_pred_class))"
      ],
      "metadata": {
        "id": "KvKQLqgvsM7y"
      },
      "execution_count": 14,
      "outputs": []
    },
    {
      "cell_type": "code",
      "source": [
        "# examine the class distribution of the testing set (using a Pandas Series method)\n",
        "# y_test.value_counts()"
      ],
      "metadata": {
        "id": "Gq5sFrdnsOey"
      },
      "execution_count": 15,
      "outputs": []
    },
    {
      "cell_type": "code",
      "source": [
        "# calculate the percentage of ones\n",
        "# because y_test only contains ones and zeros, we can simply calculate the mean = percentage of ones\n",
        "# y_test.mean()"
      ],
      "metadata": {
        "id": "H_QP9edQsP26"
      },
      "execution_count": 16,
      "outputs": []
    },
    {
      "cell_type": "code",
      "source": [
        "# calculate the percentage of zeros\n",
        "# 1 - y_test.mean()"
      ],
      "metadata": {
        "id": "JHoDC5eLsRE9"
      },
      "execution_count": 17,
      "outputs": []
    },
    {
      "cell_type": "code",
      "source": [
        "# calculate null accuracy in a single line of code\n",
        "# only for binary classification problems coded as 0/1\n",
        "# max(y_test.mean(), 1 - y_test.mean())"
      ],
      "metadata": {
        "id": "QD0-t6ENsSk6"
      },
      "execution_count": 18,
      "outputs": []
    },
    {
      "cell_type": "code",
      "source": [
        "# calculate null accuracy (for multi-class classification problems)\n",
        "# y_test.value_counts().head(1) / len(y_test)"
      ],
      "metadata": {
        "id": "wbVHw_C8sUEY"
      },
      "execution_count": 19,
      "outputs": []
    },
    {
      "cell_type": "code",
      "source": [
        "# print the first 25 true and predicted responses\n",
        "#print('True:', y_test.values[0:25])\n",
        "print('False:', y_pred_class[0:100])"
      ],
      "metadata": {
        "colab": {
          "base_uri": "https://localhost:8080/"
        },
        "id": "eDqQoNCvsVd5",
        "outputId": "44ee299b-f9d5-45d1-8d64-9ff480ece116"
      },
      "execution_count": 14,
      "outputs": [
        {
          "output_type": "stream",
          "name": "stdout",
          "text": [
            "False: [1 0 1 0 1 1 0 0 1 0 0 1 0 0 0 0 0 0 0 1 0 1 0 1 0 0 1 1 0 0 1 1 1 1 1 1 1\n",
            " 1 0 0 0 0 1 1 0 0 1 1 0 0 1 0 1 1 1 0 0 1 1 0 0 1 0 1 1 0 0 0 1 0 1 1 0 1\n",
            " 1 1 0 0 0 0 1 0 0 0 0 1 0 0 1 1 0 1 0 0 1 1 0 1 0 0]\n"
          ]
        }
      ]
    },
    {
      "cell_type": "code",
      "source": [
        "sample_submission_df = pd.read_csv('/content/drive/MyDrive/MIT/Hackathon/Sample_Submission_(1).csv')"
      ],
      "metadata": {
        "id": "OM-WOhHSwvMq"
      },
      "execution_count": 15,
      "outputs": []
    },
    {
      "cell_type": "code",
      "source": [
        "sample_submission_df.info()\n",
        "sample_submission_df = sample_submission_df.drop([\"Overall_Experience\"], axis=1)\n",
        "sample_submission_df.info()"
      ],
      "metadata": {
        "colab": {
          "base_uri": "https://localhost:8080/"
        },
        "id": "k11QmupmxNIe",
        "outputId": "f5771a99-33bf-431a-80b1-8c272b7c9f1b"
      },
      "execution_count": 16,
      "outputs": [
        {
          "output_type": "stream",
          "name": "stdout",
          "text": [
            "<class 'pandas.core.frame.DataFrame'>\n",
            "RangeIndex: 35602 entries, 0 to 35601\n",
            "Data columns (total 2 columns):\n",
            " #   Column              Non-Null Count  Dtype\n",
            "---  ------              --------------  -----\n",
            " 0   ID                  35602 non-null  int64\n",
            " 1   Overall_Experience  35602 non-null  int64\n",
            "dtypes: int64(2)\n",
            "memory usage: 556.4 KB\n",
            "<class 'pandas.core.frame.DataFrame'>\n",
            "RangeIndex: 35602 entries, 0 to 35601\n",
            "Data columns (total 1 columns):\n",
            " #   Column  Non-Null Count  Dtype\n",
            "---  ------  --------------  -----\n",
            " 0   ID      35602 non-null  int64\n",
            "dtypes: int64(1)\n",
            "memory usage: 278.3 KB\n"
          ]
        }
      ]
    },
    {
      "cell_type": "code",
      "source": [
        "len(y_pred_class)"
      ],
      "metadata": {
        "colab": {
          "base_uri": "https://localhost:8080/"
        },
        "id": "A4RnEBJNxOWN",
        "outputId": "55694573-86f6-4888-f4d5-93b0a2178101"
      },
      "execution_count": 17,
      "outputs": [
        {
          "output_type": "execute_result",
          "data": {
            "text/plain": [
              "35602"
            ]
          },
          "metadata": {},
          "execution_count": 17
        }
      ]
    },
    {
      "cell_type": "code",
      "source": [
        "se = pd.Series(y_pred_class)\n",
        "sample_submission_df['Overall_Experience'] = se.values"
      ],
      "metadata": {
        "id": "21cED2nExcv1"
      },
      "execution_count": 18,
      "outputs": []
    },
    {
      "cell_type": "code",
      "source": [
        "sample_submission_df.head(25)"
      ],
      "metadata": {
        "colab": {
          "base_uri": "https://localhost:8080/",
          "height": 834
        },
        "id": "5bpg9qkNx5Ur",
        "outputId": "9f2d5e8d-43d8-416d-8b55-fb4fab5074cd"
      },
      "execution_count": 19,
      "outputs": [
        {
          "output_type": "execute_result",
          "data": {
            "text/plain": [
              "          ID  Overall_Experience\n",
              "0   99900001                   1\n",
              "1   99900002                   0\n",
              "2   99900003                   1\n",
              "3   99900004                   0\n",
              "4   99900005                   1\n",
              "5   99900006                   1\n",
              "6   99900007                   0\n",
              "7   99900008                   0\n",
              "8   99900009                   1\n",
              "9   99900010                   0\n",
              "10  99900011                   0\n",
              "11  99900012                   1\n",
              "12  99900013                   0\n",
              "13  99900014                   0\n",
              "14  99900015                   0\n",
              "15  99900016                   0\n",
              "16  99900017                   0\n",
              "17  99900018                   0\n",
              "18  99900019                   0\n",
              "19  99900020                   1\n",
              "20  99900021                   0\n",
              "21  99900022                   1\n",
              "22  99900023                   0\n",
              "23  99900024                   1\n",
              "24  99900025                   0"
            ],
            "text/html": [
              "\n",
              "  <div id=\"df-1d4a3fb6-7979-49ed-8bf0-93d99fbc3fbc\">\n",
              "    <div class=\"colab-df-container\">\n",
              "      <div>\n",
              "<style scoped>\n",
              "    .dataframe tbody tr th:only-of-type {\n",
              "        vertical-align: middle;\n",
              "    }\n",
              "\n",
              "    .dataframe tbody tr th {\n",
              "        vertical-align: top;\n",
              "    }\n",
              "\n",
              "    .dataframe thead th {\n",
              "        text-align: right;\n",
              "    }\n",
              "</style>\n",
              "<table border=\"1\" class=\"dataframe\">\n",
              "  <thead>\n",
              "    <tr style=\"text-align: right;\">\n",
              "      <th></th>\n",
              "      <th>ID</th>\n",
              "      <th>Overall_Experience</th>\n",
              "    </tr>\n",
              "  </thead>\n",
              "  <tbody>\n",
              "    <tr>\n",
              "      <th>0</th>\n",
              "      <td>99900001</td>\n",
              "      <td>1</td>\n",
              "    </tr>\n",
              "    <tr>\n",
              "      <th>1</th>\n",
              "      <td>99900002</td>\n",
              "      <td>0</td>\n",
              "    </tr>\n",
              "    <tr>\n",
              "      <th>2</th>\n",
              "      <td>99900003</td>\n",
              "      <td>1</td>\n",
              "    </tr>\n",
              "    <tr>\n",
              "      <th>3</th>\n",
              "      <td>99900004</td>\n",
              "      <td>0</td>\n",
              "    </tr>\n",
              "    <tr>\n",
              "      <th>4</th>\n",
              "      <td>99900005</td>\n",
              "      <td>1</td>\n",
              "    </tr>\n",
              "    <tr>\n",
              "      <th>5</th>\n",
              "      <td>99900006</td>\n",
              "      <td>1</td>\n",
              "    </tr>\n",
              "    <tr>\n",
              "      <th>6</th>\n",
              "      <td>99900007</td>\n",
              "      <td>0</td>\n",
              "    </tr>\n",
              "    <tr>\n",
              "      <th>7</th>\n",
              "      <td>99900008</td>\n",
              "      <td>0</td>\n",
              "    </tr>\n",
              "    <tr>\n",
              "      <th>8</th>\n",
              "      <td>99900009</td>\n",
              "      <td>1</td>\n",
              "    </tr>\n",
              "    <tr>\n",
              "      <th>9</th>\n",
              "      <td>99900010</td>\n",
              "      <td>0</td>\n",
              "    </tr>\n",
              "    <tr>\n",
              "      <th>10</th>\n",
              "      <td>99900011</td>\n",
              "      <td>0</td>\n",
              "    </tr>\n",
              "    <tr>\n",
              "      <th>11</th>\n",
              "      <td>99900012</td>\n",
              "      <td>1</td>\n",
              "    </tr>\n",
              "    <tr>\n",
              "      <th>12</th>\n",
              "      <td>99900013</td>\n",
              "      <td>0</td>\n",
              "    </tr>\n",
              "    <tr>\n",
              "      <th>13</th>\n",
              "      <td>99900014</td>\n",
              "      <td>0</td>\n",
              "    </tr>\n",
              "    <tr>\n",
              "      <th>14</th>\n",
              "      <td>99900015</td>\n",
              "      <td>0</td>\n",
              "    </tr>\n",
              "    <tr>\n",
              "      <th>15</th>\n",
              "      <td>99900016</td>\n",
              "      <td>0</td>\n",
              "    </tr>\n",
              "    <tr>\n",
              "      <th>16</th>\n",
              "      <td>99900017</td>\n",
              "      <td>0</td>\n",
              "    </tr>\n",
              "    <tr>\n",
              "      <th>17</th>\n",
              "      <td>99900018</td>\n",
              "      <td>0</td>\n",
              "    </tr>\n",
              "    <tr>\n",
              "      <th>18</th>\n",
              "      <td>99900019</td>\n",
              "      <td>0</td>\n",
              "    </tr>\n",
              "    <tr>\n",
              "      <th>19</th>\n",
              "      <td>99900020</td>\n",
              "      <td>1</td>\n",
              "    </tr>\n",
              "    <tr>\n",
              "      <th>20</th>\n",
              "      <td>99900021</td>\n",
              "      <td>0</td>\n",
              "    </tr>\n",
              "    <tr>\n",
              "      <th>21</th>\n",
              "      <td>99900022</td>\n",
              "      <td>1</td>\n",
              "    </tr>\n",
              "    <tr>\n",
              "      <th>22</th>\n",
              "      <td>99900023</td>\n",
              "      <td>0</td>\n",
              "    </tr>\n",
              "    <tr>\n",
              "      <th>23</th>\n",
              "      <td>99900024</td>\n",
              "      <td>1</td>\n",
              "    </tr>\n",
              "    <tr>\n",
              "      <th>24</th>\n",
              "      <td>99900025</td>\n",
              "      <td>0</td>\n",
              "    </tr>\n",
              "  </tbody>\n",
              "</table>\n",
              "</div>\n",
              "      <button class=\"colab-df-convert\" onclick=\"convertToInteractive('df-1d4a3fb6-7979-49ed-8bf0-93d99fbc3fbc')\"\n",
              "              title=\"Convert this dataframe to an interactive table.\"\n",
              "              style=\"display:none;\">\n",
              "        \n",
              "  <svg xmlns=\"http://www.w3.org/2000/svg\" height=\"24px\"viewBox=\"0 0 24 24\"\n",
              "       width=\"24px\">\n",
              "    <path d=\"M0 0h24v24H0V0z\" fill=\"none\"/>\n",
              "    <path d=\"M18.56 5.44l.94 2.06.94-2.06 2.06-.94-2.06-.94-.94-2.06-.94 2.06-2.06.94zm-11 1L8.5 8.5l.94-2.06 2.06-.94-2.06-.94L8.5 2.5l-.94 2.06-2.06.94zm10 10l.94 2.06.94-2.06 2.06-.94-2.06-.94-.94-2.06-.94 2.06-2.06.94z\"/><path d=\"M17.41 7.96l-1.37-1.37c-.4-.4-.92-.59-1.43-.59-.52 0-1.04.2-1.43.59L10.3 9.45l-7.72 7.72c-.78.78-.78 2.05 0 2.83L4 21.41c.39.39.9.59 1.41.59.51 0 1.02-.2 1.41-.59l7.78-7.78 2.81-2.81c.8-.78.8-2.07 0-2.86zM5.41 20L4 18.59l7.72-7.72 1.47 1.35L5.41 20z\"/>\n",
              "  </svg>\n",
              "      </button>\n",
              "      \n",
              "  <style>\n",
              "    .colab-df-container {\n",
              "      display:flex;\n",
              "      flex-wrap:wrap;\n",
              "      gap: 12px;\n",
              "    }\n",
              "\n",
              "    .colab-df-convert {\n",
              "      background-color: #E8F0FE;\n",
              "      border: none;\n",
              "      border-radius: 50%;\n",
              "      cursor: pointer;\n",
              "      display: none;\n",
              "      fill: #1967D2;\n",
              "      height: 32px;\n",
              "      padding: 0 0 0 0;\n",
              "      width: 32px;\n",
              "    }\n",
              "\n",
              "    .colab-df-convert:hover {\n",
              "      background-color: #E2EBFA;\n",
              "      box-shadow: 0px 1px 2px rgba(60, 64, 67, 0.3), 0px 1px 3px 1px rgba(60, 64, 67, 0.15);\n",
              "      fill: #174EA6;\n",
              "    }\n",
              "\n",
              "    [theme=dark] .colab-df-convert {\n",
              "      background-color: #3B4455;\n",
              "      fill: #D2E3FC;\n",
              "    }\n",
              "\n",
              "    [theme=dark] .colab-df-convert:hover {\n",
              "      background-color: #434B5C;\n",
              "      box-shadow: 0px 1px 3px 1px rgba(0, 0, 0, 0.15);\n",
              "      filter: drop-shadow(0px 1px 2px rgba(0, 0, 0, 0.3));\n",
              "      fill: #FFFFFF;\n",
              "    }\n",
              "  </style>\n",
              "\n",
              "      <script>\n",
              "        const buttonEl =\n",
              "          document.querySelector('#df-1d4a3fb6-7979-49ed-8bf0-93d99fbc3fbc button.colab-df-convert');\n",
              "        buttonEl.style.display =\n",
              "          google.colab.kernel.accessAllowed ? 'block' : 'none';\n",
              "\n",
              "        async function convertToInteractive(key) {\n",
              "          const element = document.querySelector('#df-1d4a3fb6-7979-49ed-8bf0-93d99fbc3fbc');\n",
              "          const dataTable =\n",
              "            await google.colab.kernel.invokeFunction('convertToInteractive',\n",
              "                                                     [key], {});\n",
              "          if (!dataTable) return;\n",
              "\n",
              "          const docLinkHtml = 'Like what you see? Visit the ' +\n",
              "            '<a target=\"_blank\" href=https://colab.research.google.com/notebooks/data_table.ipynb>data table notebook</a>'\n",
              "            + ' to learn more about interactive tables.';\n",
              "          element.innerHTML = '';\n",
              "          dataTable['output_type'] = 'display_data';\n",
              "          await google.colab.output.renderOutput(dataTable, element);\n",
              "          const docLink = document.createElement('div');\n",
              "          docLink.innerHTML = docLinkHtml;\n",
              "          element.appendChild(docLink);\n",
              "        }\n",
              "      </script>\n",
              "    </div>\n",
              "  </div>\n",
              "  "
            ]
          },
          "metadata": {},
          "execution_count": 19
        }
      ]
    },
    {
      "cell_type": "code",
      "source": [
        "sample_submission_df.to_csv(\"/content/drive/MyDrive/MIT/Hackathon/PredictionData_v8_NaNMean.csv\", index=False)"
      ],
      "metadata": {
        "id": "mZZ7eRpEyHLw"
      },
      "execution_count": 20,
      "outputs": []
    }
  ]
}